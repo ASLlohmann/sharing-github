{
 "cells": [
  {
   "cell_type": "code",
   "execution_count": 94,
   "metadata": {},
   "outputs": [],
   "source": [
    "%matplotlib widget\n",
    "\n",
    "import quandl as quandl\n",
    "import pandas as pd \n",
    "import matplotlib.pyplot as plt\n",
    "ism=quandl.get(\"ISM/MAN_PRICES\", authtoken=\"b2P8ovo7y75geHc7vMq_\",start_date=\"2005-01-01\", end_date=\"2021-02-20\")[\"Index\"]\n",
    "fred=quandl.get(\"FRED/PPIACO\", transform=\"rdiff\", authtoken=\"b2P8ovo7y75geHc7vMq_\",start_date=\"2005-01-01\", end_date=\"2021-02-20\")[\"Value\"]\n",
    "df = pd.DataFrame(ism, index=ism.index)\n",
    "df2 = pd.DataFrame(fred*100, index=ism.index)\n"
   ]
  },
  {
   "cell_type": "code",
   "execution_count": 124,
   "metadata": {},
   "outputs": [
    {
     "data": {
      "application/vnd.jupyter.widget-view+json": {
       "model_id": "39969b259d604e90807b11b414f5affa",
       "version_major": 2,
       "version_minor": 0
      },
      "text/plain": [
       "Canvas(toolbar=Toolbar(toolitems=[('Home', 'Reset original view', 'home', 'home'), ('Back', 'Back to previous …"
      ]
     },
     "metadata": {},
     "output_type": "display_data"
    }
   ],
   "source": [
    "\n",
    "with plt.style.context('dark_background'):\n",
    " fig, ax1 = plt.subplots()\n",
    " ax1.plot(df, color=\"magenta\")\n",
    " ax2 = ax1.twinx()  # instantiate a second axes that shares the same x-axis\n",
    " ax2.plot(df2, color=\"limegreen\")\n",
    " plt.title(\"Montlhy PPI x ISM Manufacturing Prices\", color=\"magenta\",fontsize=10,fontweight = 'bold')\n",
    " fig.tight_layout()\n",
    " plt.show() "
   ]
  },
  {
   "cell_type": "code",
   "execution_count": 114,
   "metadata": {},
   "outputs": [],
   "source": []
  },
  {
   "cell_type": "code",
   "execution_count": 91,
   "metadata": {},
   "outputs": [],
   "source": []
  },
  {
   "cell_type": "code",
   "execution_count": 123,
   "metadata": {},
   "outputs": [
    {
     "data": {
      "application/vnd.jupyter.widget-view+json": {
       "model_id": "8f750dfdc5ba45ddb43eeb3cb0ce143b",
       "version_major": 2,
       "version_minor": 0
      },
      "text/plain": [
       "Canvas(toolbar=Toolbar(toolitems=[('Home', 'Reset original view', 'home', 'home'), ('Back', 'Back to previous …"
      ]
     },
     "metadata": {},
     "output_type": "display_data"
    }
   ],
   "source": [
    "CPI=quandl.get(\"FRED/CPIAUCSL\", transform=\"rdiff\", authtoken=\"b2P8ovo7y75geHc7vMq_\",start_date=\"2012-01-01\", end_date=\"2021-02-20\")[\"Value\"]\n",
    "Core_cpi=quandl.get(\"FRED/CORESTICKM157SFRBATL\", authtoken=\"b2P8ovo7y75geHc7vMq_\",start_date=\"2012-02-01\", end_date=\"2021-02-20\")[\"Value\"]\n",
    "df3 = pd.DataFrame(CPI*100, index=CPI.index)\n",
    "df4 = pd.DataFrame(Core_cpi, index=CPI.index)\n",
    "\n",
    "with plt.style.context('dark_background'):\n",
    " fig, ax1 = plt.subplots()\n",
    " ax1.plot(df3, color=\"magenta\")\n",
    " ax1.plot(df4, color=\"limegreen\")\n",
    " plt.ylabel(\"Time\", color=\"Magenta\", fontsize=10,fontweight = 'bold')\n",
    " plt.xlabel(\"(%)\", color=\"Magenta\", fontsize=10,fontweight = 'bold')\n",
    " plt.title(\"Core US CPI - CPI_us\", color=\"magenta\",fontsize=10,fontweight = 'bold')\n",
    "\n",
    " fig.tight_layout()\n",
    " plt.show() "
   ]
  },
  {
   "cell_type": "code",
   "execution_count": 116,
   "metadata": {},
   "outputs": [
    {
     "name": "stdout",
     "output_type": "stream",
     "text": [
      "            Index\n",
      "Date             \n",
      "2005-01-01   69.0\n",
      "2005-02-01   65.5\n",
      "2005-03-01   73.0\n",
      "2005-04-01   71.0\n",
      "2005-05-01   58.0\n",
      "...           ...\n",
      "2020-09-01   62.8\n",
      "2020-10-01   65.5\n",
      "2020-11-01   65.4\n",
      "2020-12-01   77.6\n",
      "2021-01-01   82.1\n",
      "\n",
      "[193 rows x 1 columns]\n"
     ]
    }
   ],
   "source": [
    "\n",
    "\n"
   ]
  }
 ],
 "metadata": {
  "kernelspec": {
   "display_name": "Python 3",
   "language": "python",
   "name": "python3"
  },
  "language_info": {
   "codemirror_mode": {
    "name": "ipython",
    "version": 3
   },
   "file_extension": ".py",
   "mimetype": "text/x-python",
   "name": "python",
   "nbconvert_exporter": "python",
   "pygments_lexer": "ipython3",
   "version": "3.8.3"
  }
 },
 "nbformat": 4,
 "nbformat_minor": 4
}
